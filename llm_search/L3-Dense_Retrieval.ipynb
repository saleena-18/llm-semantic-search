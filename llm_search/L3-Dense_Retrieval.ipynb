{
 "cells": [
  {
   "cell_type": "markdown",
   "id": "272e659b",
   "metadata": {},
   "source": [
    "# Dense Retrieval"
   ]
  },
  {
   "cell_type": "code",
   "execution_count": 1,
   "id": "84214662",
   "metadata": {
    "height": 47
   },
   "outputs": [
    {
     "name": "stdout",
     "output_type": "stream",
     "text": [
      "Collecting Annoy\n",
      "  Downloading annoy-1.17.3.tar.gz (647 kB)\n",
      "     ---------------------------------------- 0.0/647.5 kB ? eta -:--:--\n",
      "     ------------------------------ ------- 524.3/647.5 kB 3.4 MB/s eta 0:00:01\n",
      "     -------------------------------------- 647.5/647.5 kB 2.5 MB/s eta 0:00:00\n",
      "  Preparing metadata (setup.py): started\n",
      "  Preparing metadata (setup.py): finished with status 'done'\n",
      "Building wheels for collected packages: Annoy\n",
      "  Building wheel for Annoy (setup.py): started\n",
      "  Building wheel for Annoy (setup.py): finished with status 'done'\n",
      "  Created wheel for Annoy: filename=annoy-1.17.3-cp39-cp39-win_amd64.whl size=52380 sha256=9ac745a2f8548ea7f87c72e26a016ff19bc146fbf79e22408e7c9d2282ce1a36\n",
      "  Stored in directory: c:\\users\\saleena das\\appdata\\local\\pip\\cache\\wheels\\09\\a9\\54\\37478e65995fe712f7da465749da9ddb21db6b1a599d591ac7\n",
      "Successfully built Annoy\n",
      "Installing collected packages: Annoy\n",
      "Successfully installed Annoy-1.17.3\n"
     ]
    },
    {
     "name": "stderr",
     "output_type": "stream",
     "text": [
      "\n",
      "[notice] A new release of pip is available: 24.3.1 -> 25.1.1\n",
      "[notice] To update, run: python.exe -m pip install --upgrade pip\n"
     ]
    }
   ],
   "source": [
    "!pip install Annoy"
   ]
  },
  {
   "cell_type": "code",
   "execution_count": 1,
   "id": "bc9d6309",
   "metadata": {},
   "outputs": [
    {
     "name": "stdout",
     "output_type": "stream",
     "text": [
      "3.9.20 (main, Oct  3 2024, 07:38:01) [MSC v.1929 64 bit (AMD64)]\n"
     ]
    }
   ],
   "source": [
    "import sys\n",
    "print(sys.version)"
   ]
  },
  {
   "cell_type": "code",
   "execution_count": 2,
   "id": "72484771",
   "metadata": {},
   "outputs": [
    {
     "name": "stdout",
     "output_type": "stream",
     "text": [
      "d:\\Anaconda\\envs\\tf\\lib\\site-packages\\annoy\\__init__.py\n"
     ]
    }
   ],
   "source": [
    "import annoy\n",
    "print(annoy.__file__)"
   ]
  },
  {
   "cell_type": "code",
   "execution_count": 1,
   "id": "e876e494-818f-439e-a1be-b50535cf09f5",
   "metadata": {
    "height": 64
   },
   "outputs": [],
   "source": [
    "import os\n",
    "from dotenv import load_dotenv, find_dotenv\n",
    "_ = load_dotenv(find_dotenv())"
   ]
  },
  {
   "cell_type": "code",
   "execution_count": 2,
   "id": "dc7f9f83-c295-4114-aca4-8b0ddbc64ddb",
   "metadata": {
    "height": 47
   },
   "outputs": [],
   "source": [
    "import cohere\n",
    "import os\n",
    "co = cohere.Client(os.environ['COHERE_API_KEY'])"
   ]
  },
  {
   "cell_type": "code",
   "execution_count": 3,
   "id": "cfa7aa9f-e3e8-44d9-a4ac-461d71d8c7f4",
   "metadata": {
    "height": 64
   },
   "outputs": [],
   "source": [
    "import weaviate\n",
    "import os\n",
    "auth_config = weaviate.auth.AuthApiKey(\n",
    "    api_key=os.environ['WEAVIATE_API_KEY'])"
   ]
  },
  {
   "cell_type": "code",
   "execution_count": null,
   "id": "17e2cf33",
   "metadata": {},
   "outputs": [
    {
     "name": "stdout",
     "output_type": "stream",
     "text": [
      "True\n"
     ]
    }
   ],
   "source": [
    "from weaviate import connect_to_weaviate_cloud\n",
    "from weaviate.classes.init import Auth\n",
    "import os\n",
    "\n",
    "client = connect_to_weaviate_cloud(\n",
    "    cluster_url=os.getenv(\"WEAVIATE_URL\"),\n",
    "    auth_credentials=Auth.api_key(os.getenv(\"WEAVIATE_API_KEY\"))\n",
    ")\n",
    "\n",
    "print(client.is_ready())\n",
    "client.close()\n"
   ]
  },
  {
   "cell_type": "markdown",
   "id": "75df20b5",
   "metadata": {},
   "source": [
    "## Vector Database for semantic Search"
   ]
  },
  {
   "cell_type": "code",
   "execution_count": 15,
   "id": "1a44f246-2fdb-4986-9a23-401f22825647",
   "metadata": {
    "height": 453
   },
   "outputs": [],
   "source": [
    "def dense_retrieval(query, \n",
    "                    results_lang='en', \n",
    "                    properties = [\"text\", \"title\", \"url\", \"views\", \"lang\", \"_additional {distance}\"],\n",
    "                    num_results=5):\n",
    "\n",
    "    nearText = {\"concepts\": [query]}\n",
    "    \n",
    "    # To filter by language\n",
    "    where_filter = {\n",
    "    \"path\": [\"lang\"],\n",
    "    \"operator\": \"Equal\",\n",
    "    \"valueString\": results_lang\n",
    "    }\n",
    "    response = (\n",
    "        client.query\n",
    "        .get(\"Articles\", properties)\n",
    "        .with_near_text(nearText)\n",
    "        .with_where(where_filter)\n",
    "        .with_limit(num_results)\n",
    "        .do()\n",
    "    )\n",
    "\n",
    "    result = response['data']['Get']['Articles']\n",
    "\n",
    "    return result"
   ]
  },
  {
   "cell_type": "code",
   "execution_count": 24,
   "id": "7ec61a38",
   "metadata": {},
   "outputs": [],
   "source": [
    "from weaviate.collections.classes.filters import Filter\n",
    "from weaviate.classes.query import MetadataQuery\n",
    "\n",
    "def dense_retrieval(query,\n",
    "                    results_lang='en',\n",
    "                    num_results=5):\n",
    "    \n",
    "    articles = client.collections.get(\"Articles\")\n",
    "\n",
    "    lang_filter = Filter(\n",
    "        path=[\"lang\"],\n",
    "        operator=\"Equal\",\n",
    "        value_text=results_lang\n",
    "    )\n",
    "\n",
    "    response = articles.query.near_text(\n",
    "        query=query,\n",
    "        filters=lang_filter,\n",
    "        return_metadata=MetadataQuery(distance=True),\n",
    "        limit=num_results\n",
    "    )\n",
    "\n",
    "    result = []\n",
    "    for obj in response.objects:\n",
    "        result.append({\n",
    "            \"title\": obj.properties.get(\"title\"),\n",
    "            \"text\": obj.properties.get(\"text\"),\n",
    "            \"url\": obj.properties.get(\"url\"),\n",
    "            \"views\": obj.properties.get(\"views\"),\n",
    "            \"lang\": obj.properties.get(\"lang\"),\n",
    "            \"distance\": obj.metadata.distance\n",
    "        })\n",
    "\n",
    "    return result"
   ]
  },
  {
   "cell_type": "code",
   "execution_count": 27,
   "id": "287c7d80",
   "metadata": {},
   "outputs": [],
   "source": [
    "from weaviate.collections.classes.filters import Filter\n",
    "from weaviate.classes.query import MetadataQuery\n",
    "\n",
    "def dense_retrieval(query, results_lang='en', num_results=5):\n",
    "\n",
    "    articles = client.collections.get(\"Articles\")\n",
    "\n",
    "    lang_filter = Filter.by_property(\"lang\").equal(results_lang)\n",
    "\n",
    "    response = articles.query.near_text(\n",
    "        query=query,\n",
    "        filters=lang_filter,\n",
    "        return_metadata=MetadataQuery(distance=True),\n",
    "        limit=num_results\n",
    "    )\n",
    "\n",
    "    result = []\n",
    "    for obj in response.objects:\n",
    "        result.append({\n",
    "            \"title\": obj.properties.get(\"title\"),\n",
    "            \"text\": obj.properties.get(\"text\"),\n",
    "            \"url\": obj.properties.get(\"url\"),\n",
    "            \"views\": obj.properties.get(\"views\"),\n",
    "            \"lang\": obj.properties.get(\"lang\"),\n",
    "            \"distance\": obj.metadata.distance\n",
    "        })\n",
    "\n",
    "    return result"
   ]
  },
  {
   "cell_type": "code",
   "execution_count": 28,
   "id": "3c7d2791",
   "metadata": {
    "height": 30
   },
   "outputs": [],
   "source": [
    "from utils import print_result"
   ]
  },
  {
   "cell_type": "markdown",
   "id": "344956dc",
   "metadata": {},
   "source": [
    "### Bacic Query"
   ]
  },
  {
   "cell_type": "code",
   "execution_count": 36,
   "id": "334fcc4f",
   "metadata": {},
   "outputs": [
    {
     "data": {
      "text/plain": [
       "<weaviate.collections.collection.sync.Collection at 0x172b5849f10>"
      ]
     },
     "execution_count": 36,
     "metadata": {},
     "output_type": "execute_result"
    }
   ],
   "source": [
    "from weaviate.classes.config import Property, DataType, Configure\n",
    "\n",
    "client.collections.create(\n",
    "    name=\"Articles\",\n",
    "    properties=[\n",
    "        Property(name=\"title\", data_type=DataType.TEXT),\n",
    "        Property(name=\"text\", data_type=DataType.TEXT),\n",
    "        Property(name=\"url\", data_type=DataType.TEXT),\n",
    "        Property(name=\"views\", data_type=DataType.INT),\n",
    "        Property(name=\"lang\", data_type=DataType.TEXT),\n",
    "    ],\n",
    "    vectorizer_config=Configure.Vectorizer.text2vec_openai(),\n",
    ")\n"
   ]
  },
  {
   "cell_type": "code",
   "execution_count": 43,
   "id": "9fd63d44",
   "metadata": {},
   "outputs": [],
   "source": [
    "from dotenv import load_dotenv\n",
    "import os\n",
    "load_dotenv()\n",
    "openai_api_key = os.getenv(\"OPENAI_APIKEY\")"
   ]
  },
  {
   "cell_type": "code",
   "execution_count": null,
   "id": "4d6dd97f",
   "metadata": {},
   "outputs": [],
   "source": [
    "import weaviate\n",
    "from weaviate.classes.init import Auth\n",
    "from weaviate.classes.config import Configure\n",
    "import os\n",
    "\n",
    "weaviate_url = os.getenv(\"WEAVIATE_URL\")\n",
    "weaviate_key = os.getenv(\"WEAVIATE_API_KEY\")\n",
    "openai_key = os.getenv(\"OPENAI_API_KEY\")\n",
    "\n",
    "headers = {\n",
    "    \"X-OpenAI-Api-Key\": openai_key\n",
    "}"
   ]
  },
  {
   "cell_type": "code",
   "execution_count": 85,
   "id": "00770747",
   "metadata": {},
   "outputs": [],
   "source": [
    "client = weaviate.connect_to_weaviate_cloud(\n",
    "    cluster_url=weaviate_url,\n",
    "    auth_credentials=Auth.api_key(weaviate_key),\n",
    "    headers=headers\n",
    ")\n",
    "\n",
    "from weaviate.classes.config import Configure, DataType\n",
    "\n",
    "client.collections.create(\n",
    "    name=\"DemoCollection\",\n",
    "    properties=[\n",
    "        {\"name\": \"title\", \"data_type\": DataType.TEXT}\n",
    "    ],\n",
    "    vectorizer_config=Configure.Vectorizer.text2vec_openai(\n",
    "        model=\"text-embedding-3-large\",\n",
    "        dimensions=1024\n",
    "    )\n",
    ")\n",
    "\n",
    "client.close()"
   ]
  },
  {
   "cell_type": "code",
   "execution_count": 90,
   "id": "bb3544be",
   "metadata": {},
   "outputs": [
    {
     "data": {
      "text/plain": [
       "BatchObjectReturn(_all_responses=[UUID('e350a2ec-169e-45cf-8bde-a88377d1ea63'), UUID('d705943f-5f90-4dee-beb2-95a1be958196'), UUID('01d4e2de-acba-438c-9666-f95b6d0be79c'), UUID('54df2def-a378-49a0-abe1-e0c78a7135a0'), UUID('28592e98-9de4-40eb-b330-9c2ed3a07b43')], elapsed_seconds=6.69828462600708, errors={}, uuids={0: UUID('e350a2ec-169e-45cf-8bde-a88377d1ea63'), 1: UUID('d705943f-5f90-4dee-beb2-95a1be958196'), 2: UUID('01d4e2de-acba-438c-9666-f95b6d0be79c'), 3: UUID('54df2def-a378-49a0-abe1-e0c78a7135a0'), 4: UUID('28592e98-9de4-40eb-b330-9c2ed3a07b43')}, has_errors=False)"
      ]
     },
     "execution_count": 90,
     "metadata": {},
     "output_type": "execute_result"
    }
   ],
   "source": [
    "collection = client.collections.get(\"DemoCollection\")\n",
    "\n",
    "collection.data.insert_many([\n",
    "    {\"title\": \"Hamlet was written by William Shakespeare.\"},\n",
    "    {\"title\": \"The play Hamlet is one of Shakespeare’s most famous works.\"},\n",
    "    {\"title\": \"Shakespeare authored many plays including Hamlet, Macbeth, and Othello.\"},\n",
    "    {\"title\": \"Hamlet explores themes of revenge, madness, and mortality.\"},\n",
    "    {\"title\": \"Romeo and Juliet is another famous tragedy by Shakespeare.\"}\n",
    "])"
   ]
  },
  {
   "cell_type": "code",
   "execution_count": 92,
   "id": "4f5a1831",
   "metadata": {},
   "outputs": [
    {
     "name": "stdout",
     "output_type": "stream",
     "text": [
      "Top results:\n",
      "1. Hamlet was written by William Shakespeare.\n",
      "2. The play Hamlet is one of Shakespeare’s most famous works.\n",
      "3. Shakespeare authored many plays including Hamlet, Macbeth, and Othello.\n",
      "4. Hamlet explores themes of revenge, madness, and mortality.\n",
      "5. Romeo and Juliet is another famous tragedy by Shakespeare.\n"
     ]
    }
   ],
   "source": [
    "print(\"Top results:\")\n",
    "for i, obj in enumerate(results.objects, 1):\n",
    "    print(f\"{i}. {obj.properties['title']}\")"
   ]
  },
  {
   "cell_type": "code",
   "execution_count": 37,
   "id": "928eec43",
   "metadata": {},
   "outputs": [
    {
     "name": "stdout",
     "output_type": "stream",
     "text": [
      "{'Articles': _CollectionConfigSimple(name='Articles', description=None, generative_config=None, properties=[_Property(name='title', description=None, data_type=<DataType.TEXT: 'text'>, index_filterable=True, index_range_filters=False, index_searchable=True, nested_properties=None, tokenization=<Tokenization.WORD: 'word'>, vectorizer_config=_PropertyVectorizerConfig(skip=False, vectorize_property_name=True), vectorizer='text2vec-openai', vectorizer_configs=None), _Property(name='text', description=None, data_type=<DataType.TEXT: 'text'>, index_filterable=True, index_range_filters=False, index_searchable=True, nested_properties=None, tokenization=<Tokenization.WORD: 'word'>, vectorizer_config=_PropertyVectorizerConfig(skip=False, vectorize_property_name=True), vectorizer='text2vec-openai', vectorizer_configs=None), _Property(name='url', description=None, data_type=<DataType.TEXT: 'text'>, index_filterable=True, index_range_filters=False, index_searchable=True, nested_properties=None, tokenization=<Tokenization.WORD: 'word'>, vectorizer_config=_PropertyVectorizerConfig(skip=False, vectorize_property_name=True), vectorizer='text2vec-openai', vectorizer_configs=None), _Property(name='views', description=None, data_type=<DataType.INT: 'int'>, index_filterable=True, index_range_filters=False, index_searchable=False, nested_properties=None, tokenization=None, vectorizer_config=_PropertyVectorizerConfig(skip=False, vectorize_property_name=True), vectorizer='text2vec-openai', vectorizer_configs=None), _Property(name='lang', description=None, data_type=<DataType.TEXT: 'text'>, index_filterable=True, index_range_filters=False, index_searchable=True, nested_properties=None, tokenization=<Tokenization.WORD: 'word'>, vectorizer_config=_PropertyVectorizerConfig(skip=False, vectorize_property_name=True), vectorizer='text2vec-openai', vectorizer_configs=None)], references=[], reranker_config=None, vectorizer_config=_VectorizerConfig(vectorizer=<Vectorizers.TEXT2VEC_OPENAI: 'text2vec-openai'>, model={'baseURL': 'https://api.openai.com', 'isAzure': False, 'model': 'text-embedding-3-small'}, vectorize_collection_name=True), vectorizer=<Vectorizers.TEXT2VEC_OPENAI: 'text2vec-openai'>, vector_config=None)}\n"
     ]
    }
   ],
   "source": [
    "print(client.collections.list_all())"
   ]
  },
  {
   "cell_type": "code",
   "execution_count": 93,
   "id": "0d768695",
   "metadata": {},
   "outputs": [],
   "source": [
    "def semantic_search(query, k=5):\n",
    "    collection = client.collections.get(\"DemoCollection\")\n",
    "    results = collection.query.near_text(query=query, limit=k)\n",
    "    for i, obj in enumerate(results.objects, 1):\n",
    "        print(f\"{i}. {obj.properties['title']}\")"
   ]
  },
  {
   "cell_type": "code",
   "execution_count": 94,
   "id": "3df8a453",
   "metadata": {},
   "outputs": [
    {
     "name": "stdout",
     "output_type": "stream",
     "text": [
      "1. Hamlet explores themes of revenge, madness, and mortality.\n",
      "2. The play Hamlet is one of Shakespeare’s most famous works.\n",
      "3. Hamlet was written by William Shakespeare.\n",
      "4. Shakespeare authored many plays including Hamlet, Macbeth, and Othello.\n",
      "5. Romeo and Juliet is another famous tragedy by Shakespeare.\n"
     ]
    }
   ],
   "source": [
    "semantic_search(\"What is Hamlet about?\")"
   ]
  },
  {
   "cell_type": "code",
   "execution_count": 96,
   "id": "43123954",
   "metadata": {},
   "outputs": [],
   "source": [
    "results = collection.query.near_text(\n",
    "    query=\"Who wrote Hamlet?\",\n",
    "    limit=5,\n",
    "    return_metadata=[\"distance\"]\n",
    ")"
   ]
  },
  {
   "cell_type": "code",
   "execution_count": 97,
   "id": "0a07729e",
   "metadata": {},
   "outputs": [
    {
     "name": "stdout",
     "output_type": "stream",
     "text": [
      "1. Hamlet was written by William Shakespeare. (score: 0.6778)\n",
      "2. The play Hamlet is one of Shakespeare’s most famous works. (score: 0.5670)\n",
      "3. Shakespeare authored many plays including Hamlet, Macbeth, and Othello. (score: 0.5435)\n",
      "4. Hamlet explores themes of revenge, madness, and mortality. (score: 0.5048)\n",
      "5. Romeo and Juliet is another famous tragedy by Shakespeare. (score: 0.3859)\n"
     ]
    }
   ],
   "source": [
    "for i, obj in enumerate(results.objects, 1):\n",
    "    title = obj.properties.get(\"title\", \"[No title]\")\n",
    "    distance = obj.metadata.distance\n",
    "    print(f\"{i}. {title} (score: {1 - distance:.4f})\")"
   ]
  },
  {
   "cell_type": "markdown",
   "id": "319111ec",
   "metadata": {},
   "source": [
    "### Medium Query"
   ]
  },
  {
   "cell_type": "code",
   "execution_count": 100,
   "id": "bc558e56",
   "metadata": {},
   "outputs": [
    {
     "data": {
      "text/plain": [
       "BatchObjectReturn(_all_responses=[UUID('28428526-3831-43c6-a888-e7f478eab041'), UUID('e261c654-5e10-48d0-853b-07655aeb3705'), UUID('f13b54e7-0638-4baa-9ef9-2fe0c2261571')], elapsed_seconds=1.245448112487793, errors={}, uuids={0: UUID('28428526-3831-43c6-a888-e7f478eab041'), 1: UUID('e261c654-5e10-48d0-853b-07655aeb3705'), 2: UUID('f13b54e7-0638-4baa-9ef9-2fe0c2261571')}, has_errors=False)"
      ]
     },
     "execution_count": 100,
     "metadata": {},
     "output_type": "execute_result"
    }
   ],
   "source": [
    "docs = [\n",
    "    {\"title\": \"Ottawa is the capital of Canada.\"},\n",
    "    {\"title\": \"Canada has 10 provinces and 3 territories.\"},\n",
    "    {\"title\": \"Toronto is the largest city in Canada.\"},\n",
    "]\n",
    "\n",
    "collection.data.insert_many(docs)"
   ]
  },
  {
   "cell_type": "code",
   "execution_count": 101,
   "id": "1c1145db-f3c0-4178-8f76-69bd78a8b779",
   "metadata": {
    "height": 64,
    "jupyter": {
     "outputs_hidden": true
    }
   },
   "outputs": [
    {
     "name": "stdout",
     "output_type": "stream",
     "text": [
      "1. Ottawa is the capital of Canada. (score: 0.6313)\n",
      "2. Toronto is the largest city in Canada. (score: 0.3942)\n",
      "3. Canada has 10 provinces and 3 territories. (score: 0.3849)\n"
     ]
    }
   ],
   "source": [
    "results = collection.query.near_text(\n",
    "    query=\"What is the capital of Canada?\",\n",
    "    limit=3,\n",
    "    return_metadata=[\"distance\"]\n",
    ")\n",
    "\n",
    "for i, obj in enumerate(results.objects, 1):\n",
    "    print(f\"{i}. {obj.properties['title']} (score: {1 - obj.metadata.distance:.4f})\")"
   ]
  },
  {
   "cell_type": "code",
   "execution_count": 106,
   "id": "dda4f775-d95a-4408-872b-a0d9cf0c7a68",
   "metadata": {
    "height": 98,
    "jupyter": {
     "outputs_hidden": true
    }
   },
   "outputs": [
    {
     "name": "stdout",
     "output_type": "stream",
     "text": [
      "1. Ottawa is the capital of Canada.\n",
      "2. Toronto is the largest city in Canada.\n",
      "3. Canada has 10 provinces and 3 territories.\n"
     ]
    }
   ],
   "source": [
    "query = \"What is the capital of Canada?\"\n",
    "\n",
    "results = client.collections.get(\"DemoCollection\").query.bm25(\n",
    "    query=query,\n",
    "    limit=5\n",
    ")\n",
    "\n",
    "for i, obj in enumerate(results.objects, 1):\n",
    "    print(f\"{i}. {obj.properties['title']}\")"
   ]
  },
  {
   "cell_type": "markdown",
   "id": "529e8a97",
   "metadata": {},
   "source": [
    "### Complicated Query"
   ]
  },
  {
   "cell_type": "code",
   "execution_count": 108,
   "id": "4cc8b894",
   "metadata": {},
   "outputs": [
    {
     "data": {
      "text/plain": [
       "UUID('264a5796-1eb7-49fc-aad0-b9461e283d8a')"
      ]
     },
     "execution_count": 108,
     "metadata": {},
     "output_type": "execute_result"
    }
   ],
   "source": [
    "new_document = {\n",
    "    \"title\": \"Robert Wadlow - The Tallest Person in History\",\n",
    "    \"content\": (\n",
    "        \"Robert Wadlow, also known as the Alton Giant, was the tallest person in recorded history. \"\n",
    "        \"He was born in 1918 and stood 8 feet 11.1 inches (2.72 meters) tall. \"\n",
    "        \"His height was due to a condition called gigantism, caused by an overproduction of growth hormone. \"\n",
    "        \"Wadlow passed away in 1940 at the age of 22.\"\n",
    "    )\n",
    "}\n",
    "\n",
    "client.collections.get(\"DemoCollection\").data.insert(new_document)"
   ]
  },
  {
   "cell_type": "code",
   "execution_count": 109,
   "id": "9deb9d52-6da8-48f3-92e2-baf922afdbb9",
   "metadata": {
    "height": 98
   },
   "outputs": [
    {
     "name": "stdout",
     "output_type": "stream",
     "text": [
      "1. Robert Wadlow - The Tallest Person in History (score: 0.6983)\n",
      "2. Toronto is the largest city in Canada. (score: 0.1431)\n",
      "3. The play Hamlet is one of Shakespeare’s most famous works. (score: 0.1259)\n"
     ]
    }
   ],
   "source": [
    "results = collection.query.near_text(\n",
    "    query=\"Tallest person in history?\",\n",
    "    limit=3,\n",
    "    return_metadata=[\"distance\"]\n",
    ")\n",
    "\n",
    "for i, obj in enumerate(results.objects, 1):\n",
    "    print(f\"{i}. {obj.properties['title']} (score: {1 - obj.metadata.distance:.4f})\")"
   ]
  },
  {
   "cell_type": "code",
   "execution_count": 110,
   "id": "23ceec9a",
   "metadata": {},
   "outputs": [
    {
     "name": "stdout",
     "output_type": "stream",
     "text": [
      "1. Robert Wadlow - The Tallest Person in History\n"
     ]
    }
   ],
   "source": [
    "results = collection.query.bm25(\n",
    "    query=\"Tallest person in history\",\n",
    "    limit=3\n",
    ")\n",
    "\n",
    "for i, obj in enumerate(results.objects, 1):\n",
    "    print(f\"{i}. {obj.properties['title']}\")"
   ]
  },
  {
   "cell_type": "code",
   "execution_count": 144,
   "id": "a52ea636-1343-4587-85ce-0c291e5fecbc",
   "metadata": {
    "height": 64,
    "jupyter": {
     "outputs_hidden": true
    }
   },
   "outputs": [
    {
     "name": "stdout",
     "output_type": "stream",
     "text": [
      "1. Robert Wadlow - The Tallest Person in History\n",
      "2. The play Hamlet is one of Shakespeare’s most famous works.\n",
      "3. Hamlet was written by William Shakespeare.\n"
     ]
    }
   ],
   "source": [
    "results = collection.query.hybrid(\n",
    "    query=\"أطول رجل في التاريخ\",\n",
    "    alpha=0.5,\n",
    "    limit=3\n",
    ")\n",
    "\n",
    "for i, obj in enumerate(results.objects, 1):\n",
    "    print(f\"{i}. {obj.properties['title']}\")"
   ]
  },
  {
   "cell_type": "markdown",
   "id": "d3ed0397",
   "metadata": {},
   "source": [
    "### Building Semantic Search from Scratch"
   ]
  },
  {
   "cell_type": "code",
   "execution_count": 121,
   "id": "b1782247-3b70-4698-8863-7b2e73b10bb5",
   "metadata": {
    "height": 81
   },
   "outputs": [],
   "source": [
    "from annoy import AnnoyIndex\n",
    "import numpy as np\n",
    "import pandas as pd\n",
    "import re"
   ]
  },
  {
   "cell_type": "code",
   "execution_count": 127,
   "id": "664b5661-8e1c-4858-bbd9-5370737318e0",
   "metadata": {
    "height": 317
   },
   "outputs": [],
   "source": [
    "text = \"\"\"\n",
    "Interstellar is a 2014 epic science fiction film co-written, directed, and produced by Christopher Nolan.\n",
    "It stars Matthew McConaughey, Anne Hathaway, Jessica Chastain, Bill Irwin, Ellen Burstyn, Matt Damon, and Michael Caine.\n",
    "Set in a dystopian future where humanity is struggling to survive, the film follows a group of astronauts who travel through a wormhole near Saturn in search of a new home for mankind.\n",
    "\n",
    "Brothers Christopher and Jonathan Nolan wrote the screenplay, which had its origins in a script Jonathan developed in 2007.\n",
    "Caltech theoretical physicist and 2017 Nobel laureate in Physics[4] Kip Thorne was an executive producer, acted as a scientific consultant, and wrote a tie-in book, The Science of Interstellar.\n",
    "Cinematographer Hoyte van Hoytema shot it on 35 mm movie film in the Panavision anamorphic format and IMAX 70 mm.\n",
    "Principal photography began in late 2013 and took place in Alberta, Iceland, and Los Angeles.\n",
    "Interstellar uses extensive practical and miniature effects and the company Double Negative created additional digital effects.\n",
    "\n",
    "Interstellar premiered on October 26, 2014, in Los Angeles.\n",
    "In the United States, it was first released on film stock, expanding to venues using digital projectors.\n",
    "The film had a worldwide gross over $677 million (and $773 million with subsequent re-releases), making it the tenth-highest grossing film of 2014.\n",
    "It received acclaim for its performances, direction, screenplay, musical score, visual effects, ambition, themes, and emotional weight.\n",
    "It has also received praise from many astronomers for its scientific accuracy and portrayal of theoretical astrophysics. Since its premiere, Interstellar gained a cult following,[5] and now is regarded by many sci-fi experts as one of the best science-fiction films of all time.\n",
    "Interstellar was nominated for five awards at the 87th Academy Awards, winning Best Visual Effects, and received numerous other accolades\"\"\""
   ]
  },
  {
   "cell_type": "markdown",
   "id": "55f38f89",
   "metadata": {},
   "source": [
    "### Chunking"
   ]
  },
  {
   "cell_type": "code",
   "execution_count": 128,
   "id": "44d495f8-8db7-4aee-bfe6-5f3cd46b2217",
   "metadata": {
    "height": 98
   },
   "outputs": [],
   "source": [
    "texts = text.split('.')\n",
    "texts = np.array([t.strip(' \\n') for t in texts])"
   ]
  },
  {
   "cell_type": "code",
   "execution_count": 129,
   "id": "c378fcac-9b19-451c-ab68-8c6b69b7ac2d",
   "metadata": {
    "height": 30
   },
   "outputs": [
    {
     "data": {
      "text/plain": [
       "array(['Interstellar is a 2014 epic science fiction film co-written, directed, and produced by Christopher Nolan',\n",
       "       'It stars Matthew McConaughey, Anne Hathaway, Jessica Chastain, Bill Irwin, Ellen Burstyn, Matt Damon, and Michael Caine',\n",
       "       'Set in a dystopian future where humanity is struggling to survive, the film follows a group of astronauts who travel through a wormhole near Saturn in search of a new home for mankind',\n",
       "       'Brothers Christopher and Jonathan Nolan wrote the screenplay, which had its origins in a script Jonathan developed in 2007',\n",
       "       'Caltech theoretical physicist and 2017 Nobel laureate in Physics[4] Kip Thorne was an executive producer, acted as a scientific consultant, and wrote a tie-in book, The Science of Interstellar',\n",
       "       'Cinematographer Hoyte van Hoytema shot it on 35 mm movie film in the Panavision anamorphic format and IMAX 70 mm',\n",
       "       'Principal photography began in late 2013 and took place in Alberta, Iceland, and Los Angeles',\n",
       "       'Interstellar uses extensive practical and miniature effects and the company Double Negative created additional digital effects',\n",
       "       'Interstellar premiered on October 26, 2014, in Los Angeles',\n",
       "       'In the United States, it was first released on film stock, expanding to venues using digital projectors',\n",
       "       'The film had a worldwide gross over $677 million (and $773 million with subsequent re-releases), making it the tenth-highest grossing film of 2014',\n",
       "       'It received acclaim for its performances, direction, screenplay, musical score, visual effects, ambition, themes, and emotional weight',\n",
       "       'It has also received praise from many astronomers for its scientific accuracy and portrayal of theoretical astrophysics',\n",
       "       'Since its premiere, Interstellar gained a cult following,[5] and now is regarded by many sci-fi experts as one of the best science-fiction films of all time',\n",
       "       'Interstellar was nominated for five awards at the 87th Academy Awards, winning Best Visual Effects, and received numerous other accolades'],\n",
       "      dtype='<U192')"
      ]
     },
     "execution_count": 129,
     "metadata": {},
     "output_type": "execute_result"
    }
   ],
   "source": [
    "texts"
   ]
  },
  {
   "cell_type": "code",
   "execution_count": 130,
   "id": "3f850709",
   "metadata": {
    "height": 98
   },
   "outputs": [],
   "source": [
    "texts = text.split('\\n\\n')\n",
    "texts = np.array([t.strip(' \\n') for t in texts])"
   ]
  },
  {
   "cell_type": "code",
   "execution_count": 131,
   "id": "7b41bc71",
   "metadata": {
    "height": 30
   },
   "outputs": [
    {
     "data": {
      "text/plain": [
       "array(['Interstellar is a 2014 epic science fiction film co-written, directed, and produced by Christopher Nolan.\\nIt stars Matthew McConaughey, Anne Hathaway, Jessica Chastain, Bill Irwin, Ellen Burstyn, Matt Damon, and Michael Caine.\\nSet in a dystopian future where humanity is struggling to survive, the film follows a group of astronauts who travel through a wormhole near Saturn in search of a new home for mankind.',\n",
       "       'Brothers Christopher and Jonathan Nolan wrote the screenplay, which had its origins in a script Jonathan developed in 2007.\\nCaltech theoretical physicist and 2017 Nobel laureate in Physics[4] Kip Thorne was an executive producer, acted as a scientific consultant, and wrote a tie-in book, The Science of Interstellar.\\nCinematographer Hoyte van Hoytema shot it on 35 mm movie film in the Panavision anamorphic format and IMAX 70 mm.\\nPrincipal photography began in late 2013 and took place in Alberta, Iceland, and Los Angeles.\\nInterstellar uses extensive practical and miniature effects and the company Double Negative created additional digital effects.',\n",
       "       'Interstellar premiered on October 26, 2014, in Los Angeles.\\nIn the United States, it was first released on film stock, expanding to venues using digital projectors.\\nThe film had a worldwide gross over $677 million (and $773 million with subsequent re-releases), making it the tenth-highest grossing film of 2014.\\nIt received acclaim for its performances, direction, screenplay, musical score, visual effects, ambition, themes, and emotional weight.\\nIt has also received praise from many astronomers for its scientific accuracy and portrayal of theoretical astrophysics. Since its premiere, Interstellar gained a cult following,[5] and now is regarded by many sci-fi experts as one of the best science-fiction films of all time.\\nInterstellar was nominated for five awards at the 87th Academy Awards, winning Best Visual Effects, and received numerous other accolades'],\n",
       "      dtype='<U865')"
      ]
     },
     "execution_count": 131,
     "metadata": {},
     "output_type": "execute_result"
    }
   ],
   "source": [
    "texts"
   ]
  },
  {
   "cell_type": "code",
   "execution_count": 132,
   "id": "4f4e167d",
   "metadata": {
    "height": 98
   },
   "outputs": [],
   "source": [
    "texts = text.split('.')\n",
    "texts = np.array([t.strip(' \\n') for t in texts])"
   ]
  },
  {
   "cell_type": "code",
   "execution_count": 133,
   "id": "907ad923-a086-4746-b3c8-bdd7e5ff30ad",
   "metadata": {
    "height": 64
   },
   "outputs": [],
   "source": [
    "title = 'Interstellar (film)'\n",
    "texts = np.array([f\"{title} {t}\" for t in texts])"
   ]
  },
  {
   "cell_type": "code",
   "execution_count": 134,
   "id": "630eb9b9-eced-4716-8684-ad028a437057",
   "metadata": {
    "height": 30
   },
   "outputs": [
    {
     "data": {
      "text/plain": [
       "array(['Interstellar (film) Interstellar is a 2014 epic science fiction film co-written, directed, and produced by Christopher Nolan',\n",
       "       'Interstellar (film) It stars Matthew McConaughey, Anne Hathaway, Jessica Chastain, Bill Irwin, Ellen Burstyn, Matt Damon, and Michael Caine',\n",
       "       'Interstellar (film) Set in a dystopian future where humanity is struggling to survive, the film follows a group of astronauts who travel through a wormhole near Saturn in search of a new home for mankind',\n",
       "       'Interstellar (film) Brothers Christopher and Jonathan Nolan wrote the screenplay, which had its origins in a script Jonathan developed in 2007',\n",
       "       'Interstellar (film) Caltech theoretical physicist and 2017 Nobel laureate in Physics[4] Kip Thorne was an executive producer, acted as a scientific consultant, and wrote a tie-in book, The Science of Interstellar',\n",
       "       'Interstellar (film) Cinematographer Hoyte van Hoytema shot it on 35 mm movie film in the Panavision anamorphic format and IMAX 70 mm',\n",
       "       'Interstellar (film) Principal photography began in late 2013 and took place in Alberta, Iceland, and Los Angeles',\n",
       "       'Interstellar (film) Interstellar uses extensive practical and miniature effects and the company Double Negative created additional digital effects',\n",
       "       'Interstellar (film) Interstellar premiered on October 26, 2014, in Los Angeles',\n",
       "       'Interstellar (film) In the United States, it was first released on film stock, expanding to venues using digital projectors',\n",
       "       'Interstellar (film) The film had a worldwide gross over $677 million (and $773 million with subsequent re-releases), making it the tenth-highest grossing film of 2014',\n",
       "       'Interstellar (film) It received acclaim for its performances, direction, screenplay, musical score, visual effects, ambition, themes, and emotional weight',\n",
       "       'Interstellar (film) It has also received praise from many astronomers for its scientific accuracy and portrayal of theoretical astrophysics',\n",
       "       'Interstellar (film) Since its premiere, Interstellar gained a cult following,[5] and now is regarded by many sci-fi experts as one of the best science-fiction films of all time',\n",
       "       'Interstellar (film) Interstellar was nominated for five awards at the 87th Academy Awards, winning Best Visual Effects, and received numerous other accolades'],\n",
       "      dtype='<U212')"
      ]
     },
     "execution_count": 134,
     "metadata": {},
     "output_type": "execute_result"
    }
   ],
   "source": [
    "texts"
   ]
  },
  {
   "cell_type": "markdown",
   "id": "3a26b43a",
   "metadata": {},
   "source": [
    "### Get the embeddings"
   ]
  },
  {
   "cell_type": "code",
   "execution_count": 135,
   "id": "fbbc0303-e929-4eb4-aa95-0c41042e19c9",
   "metadata": {
    "height": 64
   },
   "outputs": [
    {
     "name": "stderr",
     "output_type": "stream",
     "text": [
      "d:\\Anaconda\\envs\\tf\\lib\\site-packages\\cohere\\core\\unchecked_base_model.py:165: PydanticDeprecatedSince20: The `__fields__` attribute is deprecated, use `model_fields` instead. Deprecated in Pydantic V2.0 to be removed in V3.0. See Pydantic V2 Migration Guide at https://errors.pydantic.dev/2.10/migration/\n",
      "  if inner_type.__fields__[metadata.discriminant].default == objects_discriminant:\n"
     ]
    }
   ],
   "source": [
    "response = co.embed(\n",
    "    texts=texts.tolist()\n",
    ").embeddings"
   ]
  },
  {
   "cell_type": "code",
   "execution_count": 136,
   "id": "84d7961f-5075-4549-84ac-a013d875b709",
   "metadata": {
    "height": 47
   },
   "outputs": [
    {
     "data": {
      "text/plain": [
       "(15, 4096)"
      ]
     },
     "execution_count": 136,
     "metadata": {},
     "output_type": "execute_result"
    }
   ],
   "source": [
    "embeds = np.array(response)\n",
    "embeds.shape"
   ]
  },
  {
   "cell_type": "markdown",
   "id": "39e19dee",
   "metadata": {},
   "source": [
    "### Create the search index"
   ]
  },
  {
   "cell_type": "code",
   "execution_count": 137,
   "id": "7cadadeb-f74f-4145-8a62-de184ffd9ead",
   "metadata": {
    "height": 132
   },
   "outputs": [
    {
     "data": {
      "text/plain": [
       "True"
      ]
     },
     "execution_count": 137,
     "metadata": {},
     "output_type": "execute_result"
    }
   ],
   "source": [
    "search_index = AnnoyIndex(embeds.shape[1], 'angular')\n",
    "for i in range(len(embeds)):\n",
    "    search_index.add_item(i, embeds[i])\n",
    "\n",
    "search_index.build(10) # 10 trees\n",
    "search_index.save('test.ann')"
   ]
  },
  {
   "cell_type": "code",
   "execution_count": 138,
   "id": "86e7267a-d130-4ee2-8498-4ba2ad2eebd0",
   "metadata": {
    "height": 334
   },
   "outputs": [],
   "source": [
    "pd.set_option('display.max_colwidth', None)\n",
    "\n",
    "def search(query):\n",
    "\n",
    "  query_embed = co.embed(texts=[query]).embeddings\n",
    "  similar_item_ids = search_index.get_nns_by_vector(query_embed[0],\n",
    "                                                    3,\n",
    "                                                  include_distances=True)\n",
    "  results = pd.DataFrame(data={'texts': texts[similar_item_ids[0]],\n",
    "                              'distance': similar_item_ids[1]})\n",
    "\n",
    "  print(texts[similar_item_ids[0]])\n",
    "  return results"
   ]
  },
  {
   "cell_type": "code",
   "execution_count": 139,
   "id": "6b932b43-5fa4-4f23-a627-29deb80f0bd0",
   "metadata": {
    "height": 47
   },
   "outputs": [
    {
     "name": "stdout",
     "output_type": "stream",
     "text": [
      "['Interstellar (film) The film had a worldwide gross over $677 million (and $773 million with subsequent re-releases), making it the tenth-highest grossing film of 2014'\n",
      " 'Interstellar (film) Interstellar premiered on October 26, 2014, in Los Angeles'\n",
      " 'Interstellar (film) In the United States, it was first released on film stock, expanding to venues using digital projectors']\n"
     ]
    },
    {
     "data": {
      "text/html": [
       "<div>\n",
       "<style scoped>\n",
       "    .dataframe tbody tr th:only-of-type {\n",
       "        vertical-align: middle;\n",
       "    }\n",
       "\n",
       "    .dataframe tbody tr th {\n",
       "        vertical-align: top;\n",
       "    }\n",
       "\n",
       "    .dataframe thead th {\n",
       "        text-align: right;\n",
       "    }\n",
       "</style>\n",
       "<table border=\"1\" class=\"dataframe\">\n",
       "  <thead>\n",
       "    <tr style=\"text-align: right;\">\n",
       "      <th></th>\n",
       "      <th>texts</th>\n",
       "      <th>distance</th>\n",
       "    </tr>\n",
       "  </thead>\n",
       "  <tbody>\n",
       "    <tr>\n",
       "      <th>0</th>\n",
       "      <td>Interstellar (film) The film had a worldwide gross over $677 million (and $773 million with subsequent re-releases), making it the tenth-highest grossing film of 2014</td>\n",
       "      <td>1.019056</td>\n",
       "    </tr>\n",
       "    <tr>\n",
       "      <th>1</th>\n",
       "      <td>Interstellar (film) Interstellar premiered on October 26, 2014, in Los Angeles</td>\n",
       "      <td>1.144951</td>\n",
       "    </tr>\n",
       "    <tr>\n",
       "      <th>2</th>\n",
       "      <td>Interstellar (film) In the United States, it was first released on film stock, expanding to venues using digital projectors</td>\n",
       "      <td>1.167268</td>\n",
       "    </tr>\n",
       "  </tbody>\n",
       "</table>\n",
       "</div>"
      ],
      "text/plain": [
       "                                                                                                                                                                    texts  \\\n",
       "0  Interstellar (film) The film had a worldwide gross over $677 million (and $773 million with subsequent re-releases), making it the tenth-highest grossing film of 2014   \n",
       "1                                                                                          Interstellar (film) Interstellar premiered on October 26, 2014, in Los Angeles   \n",
       "2                                             Interstellar (film) In the United States, it was first released on film stock, expanding to venues using digital projectors   \n",
       "\n",
       "   distance  \n",
       "0  1.019056  \n",
       "1  1.144951  \n",
       "2  1.167268  "
      ]
     },
     "execution_count": 139,
     "metadata": {},
     "output_type": "execute_result"
    }
   ],
   "source": [
    "query = \"How much did the film make?\"\n",
    "search(query)"
   ]
  }
 ],
 "metadata": {
  "kernelspec": {
   "display_name": "tf",
   "language": "python",
   "name": "python3"
  },
  "language_info": {
   "codemirror_mode": {
    "name": "ipython",
    "version": 3
   },
   "file_extension": ".py",
   "mimetype": "text/x-python",
   "name": "python",
   "nbconvert_exporter": "python",
   "pygments_lexer": "ipython3",
   "version": "3.9.20"
  }
 },
 "nbformat": 4,
 "nbformat_minor": 5
}
